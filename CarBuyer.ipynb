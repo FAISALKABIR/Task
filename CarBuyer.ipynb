{
 "cells": [
  {
   "cell_type": "markdown",
   "metadata": {
    "id": "OC_4Idjsdky9"
   },
   "source": [
    "# Task 02:\n",
    "### Prediction about a customer will buy the car or not based on the given parameters in the dataset Using 2 hidden layer neural network."
   ]
  },
  {
   "cell_type": "code",
   "execution_count": 1,
   "metadata": {
    "id": "xeTq1KlAT8mJ"
   },
   "outputs": [],
   "source": [
    "#Import the Library\n",
    "import numpy as np\n",
    "import pandas as pd\n",
    "import matplotlib.pyplot as plt"
   ]
  },
  {
   "cell_type": "code",
   "execution_count": 2,
   "metadata": {
    "id": "2c_urM_3UN3u"
   },
   "outputs": [],
   "source": [
    "#Read the csv file\n",
    "df = pd.read_csv('CarBuyer.csv')"
   ]
  },
  {
   "cell_type": "code",
   "execution_count": 3,
   "metadata": {
    "colab": {
     "base_uri": "https://localhost:8080/",
     "height": 226
    },
    "id": "eJ2SXOl-UoS4",
    "outputId": "d33620e3-a18f-4128-b9e0-1087c17b24ca"
   },
   "outputs": [
    {
     "data": {
      "text/html": [
       "<div>\n",
       "<style scoped>\n",
       "    .dataframe tbody tr th:only-of-type {\n",
       "        vertical-align: middle;\n",
       "    }\n",
       "\n",
       "    .dataframe tbody tr th {\n",
       "        vertical-align: top;\n",
       "    }\n",
       "\n",
       "    .dataframe thead th {\n",
       "        text-align: right;\n",
       "    }\n",
       "</style>\n",
       "<table border=\"1\" class=\"dataframe\">\n",
       "  <thead>\n",
       "    <tr style=\"text-align: right;\">\n",
       "      <th></th>\n",
       "      <th>MaritalStatus</th>\n",
       "      <th>Gender</th>\n",
       "      <th>YearlyIncome</th>\n",
       "      <th>TotalChildren</th>\n",
       "      <th>NumberChildrenAtHome</th>\n",
       "      <th>EnglishEducation</th>\n",
       "      <th>HouseOwnerFlag</th>\n",
       "      <th>NumberCarsOwned</th>\n",
       "      <th>CommuteDistance</th>\n",
       "      <th>Region</th>\n",
       "      <th>Age</th>\n",
       "      <th>carBuyer</th>\n",
       "    </tr>\n",
       "  </thead>\n",
       "  <tbody>\n",
       "    <tr>\n",
       "      <th>0</th>\n",
       "      <td>5</td>\n",
       "      <td>1</td>\n",
       "      <td>9.0</td>\n",
       "      <td>2</td>\n",
       "      <td>0</td>\n",
       "      <td>5</td>\n",
       "      <td>1</td>\n",
       "      <td>0</td>\n",
       "      <td>2</td>\n",
       "      <td>2</td>\n",
       "      <td>5</td>\n",
       "      <td>1</td>\n",
       "    </tr>\n",
       "    <tr>\n",
       "      <th>1</th>\n",
       "      <td>5</td>\n",
       "      <td>1</td>\n",
       "      <td>6.0</td>\n",
       "      <td>3</td>\n",
       "      <td>3</td>\n",
       "      <td>5</td>\n",
       "      <td>0</td>\n",
       "      <td>1</td>\n",
       "      <td>1</td>\n",
       "      <td>2</td>\n",
       "      <td>4</td>\n",
       "      <td>1</td>\n",
       "    </tr>\n",
       "    <tr>\n",
       "      <th>2</th>\n",
       "      <td>5</td>\n",
       "      <td>1</td>\n",
       "      <td>6.0</td>\n",
       "      <td>3</td>\n",
       "      <td>3</td>\n",
       "      <td>5</td>\n",
       "      <td>1</td>\n",
       "      <td>1</td>\n",
       "      <td>5</td>\n",
       "      <td>2</td>\n",
       "      <td>4</td>\n",
       "      <td>1</td>\n",
       "    </tr>\n",
       "    <tr>\n",
       "      <th>3</th>\n",
       "      <td>5</td>\n",
       "      <td>2</td>\n",
       "      <td>7.0</td>\n",
       "      <td>0</td>\n",
       "      <td>0</td>\n",
       "      <td>5</td>\n",
       "      <td>0</td>\n",
       "      <td>1</td>\n",
       "      <td>10</td>\n",
       "      <td>2</td>\n",
       "      <td>5</td>\n",
       "      <td>1</td>\n",
       "    </tr>\n",
       "    <tr>\n",
       "      <th>4</th>\n",
       "      <td>5</td>\n",
       "      <td>2</td>\n",
       "      <td>8.0</td>\n",
       "      <td>5</td>\n",
       "      <td>5</td>\n",
       "      <td>5</td>\n",
       "      <td>1</td>\n",
       "      <td>4</td>\n",
       "      <td>2</td>\n",
       "      <td>2</td>\n",
       "      <td>5</td>\n",
       "      <td>1</td>\n",
       "    </tr>\n",
       "  </tbody>\n",
       "</table>\n",
       "</div>"
      ],
      "text/plain": [
       "   MaritalStatus  Gender  YearlyIncome  TotalChildren  NumberChildrenAtHome  \\\n",
       "0              5       1           9.0              2                     0   \n",
       "1              5       1           6.0              3                     3   \n",
       "2              5       1           6.0              3                     3   \n",
       "3              5       2           7.0              0                     0   \n",
       "4              5       2           8.0              5                     5   \n",
       "\n",
       "   EnglishEducation  HouseOwnerFlag  NumberCarsOwned  CommuteDistance  Region  \\\n",
       "0                 5               1                0                2       2   \n",
       "1                 5               0                1                1       2   \n",
       "2                 5               1                1                5       2   \n",
       "3                 5               0                1               10       2   \n",
       "4                 5               1                4                2       2   \n",
       "\n",
       "   Age  carBuyer  \n",
       "0    5         1  \n",
       "1    4         1  \n",
       "2    4         1  \n",
       "3    5         1  \n",
       "4    5         1  "
      ]
     },
     "execution_count": 3,
     "metadata": {},
     "output_type": "execute_result"
    }
   ],
   "source": [
    "df.head(5)"
   ]
  },
  {
   "cell_type": "markdown",
   "metadata": {
    "id": "DYP1hiRFfpif"
   },
   "source": [
    "In our last column, we have the feature that we would like to predict:"
   ]
  },
  {
   "cell_type": "code",
   "execution_count": 4,
   "metadata": {
    "colab": {
     "base_uri": "https://localhost:8080/"
    },
    "id": "_j1HMrr4Xn_P",
    "outputId": "889ddb11-c410-4e51-e6c0-ac6c5eb5b222"
   },
   "outputs": [
    {
     "data": {
      "text/plain": [
       "(500, 12)"
      ]
     },
     "execution_count": 4,
     "metadata": {},
     "output_type": "execute_result"
    }
   ],
   "source": [
    "df.shape"
   ]
  },
  {
   "cell_type": "code",
   "execution_count": 5,
   "metadata": {
    "id": "yLw8oZRzUtD8"
   },
   "outputs": [],
   "source": [
    "#Convert it into arrays for our machine to process\n",
    "dataset = df.values"
   ]
  },
  {
   "cell_type": "markdown",
   "metadata": {
    "id": "p_4mHbtYfySv"
   },
   "source": [
    "To convert our dataframe into an array, we just store the values of df into the variable ‘dataset’."
   ]
  },
  {
   "cell_type": "code",
   "execution_count": 6,
   "metadata": {
    "colab": {
     "base_uri": "https://localhost:8080/"
    },
    "id": "yN4jTXIzXOYw",
    "outputId": "79c67a44-7577-4374-ca34-a4afcd1bac2d"
   },
   "outputs": [
    {
     "data": {
      "text/plain": [
       "array([[5., 1., 9., ..., 2., 5., 1.],\n",
       "       [5., 1., 6., ..., 2., 4., 1.],\n",
       "       [5., 1., 6., ..., 2., 4., 1.],\n",
       "       ...,\n",
       "       [3., 2., 4., ..., 3., 5., 0.],\n",
       "       [3., 1., 4., ..., 1., 4., 0.],\n",
       "       [3., 1., 4., ..., 1., 4., 0.]])"
      ]
     },
     "execution_count": 6,
     "metadata": {},
     "output_type": "execute_result"
    }
   ],
   "source": [
    "dataset"
   ]
  },
  {
   "cell_type": "markdown",
   "metadata": {
    "id": "nZE1O2ycgAH4"
   },
   "source": [
    "We now split our dataset into input features (X) and the feature we wish to predict (Y). To do that split, we simply assign the first 11 columns of our array to a variable called X and the last column of our array to a variable called Y. "
   ]
  },
  {
   "cell_type": "code",
   "execution_count": 10,
   "metadata": {
    "id": "Aax89DKSXRXB"
   },
   "outputs": [],
   "source": [
    "# data initializing\n",
    "X = dataset[:,0:11]"
   ]
  },
  {
   "cell_type": "code",
   "execution_count": 11,
   "metadata": {
    "id": "U7Vj0jOGXfWS"
   },
   "outputs": [],
   "source": [
    "Y = dataset[:,11]"
   ]
  },
  {
   "cell_type": "markdown",
   "metadata": {
    "id": "WRdNZu6_g-db"
   },
   "source": [
    "Now we have to make sure that the scale of the input features are similar."
   ]
  },
  {
   "cell_type": "code",
   "execution_count": 12,
   "metadata": {
    "id": "E5Bkgb4gXx0h"
   },
   "outputs": [],
   "source": [
    "from sklearn import preprocessing"
   ]
  },
  {
   "cell_type": "markdown",
   "metadata": {},
   "source": [
    "## Data Preprocessing"
   ]
  },
  {
   "cell_type": "code",
   "execution_count": 13,
   "metadata": {},
   "outputs": [
    {
     "name": "stdout",
     "output_type": "stream",
     "text": [
      "<class 'pandas.core.frame.DataFrame'>\n",
      "RangeIndex: 500 entries, 0 to 499\n",
      "Data columns (total 12 columns):\n",
      "MaritalStatus           500 non-null int64\n",
      "Gender                  500 non-null int64\n",
      "YearlyIncome            500 non-null float64\n",
      "TotalChildren           500 non-null int64\n",
      "NumberChildrenAtHome    500 non-null int64\n",
      "EnglishEducation        500 non-null int64\n",
      "HouseOwnerFlag          500 non-null int64\n",
      "NumberCarsOwned         500 non-null int64\n",
      "CommuteDistance         500 non-null int64\n",
      "Region                  500 non-null int64\n",
      "Age                     500 non-null int64\n",
      "carBuyer                500 non-null int64\n",
      "dtypes: float64(1), int64(11)\n",
      "memory usage: 47.0 KB\n"
     ]
    }
   ],
   "source": [
    "df.info()"
   ]
  },
  {
   "cell_type": "markdown",
   "metadata": {
    "id": "dDV9aJ2ZhUgL"
   },
   "source": [
    "we scale the dataset so that all the input features lie between 0 and 1 inclusive:"
   ]
  },
  {
   "cell_type": "code",
   "execution_count": 14,
   "metadata": {
    "id": "h7YqkwBPYmf4"
   },
   "outputs": [],
   "source": [
    "# Feature scaling\n",
    "min_max_scaler = preprocessing.MinMaxScaler()\n",
    "X_scale = min_max_scaler.fit_transform(X)"
   ]
  },
  {
   "cell_type": "code",
   "execution_count": 15,
   "metadata": {
    "colab": {
     "base_uri": "https://localhost:8080/"
    },
    "id": "Cgfm_enoYq1J",
    "outputId": "22de70c4-f228-4606-fb52-d1fb0d7773c8"
   },
   "outputs": [
    {
     "data": {
      "text/plain": [
       "array([[1.        , 0.        , 0.94117647, ..., 0.05263158, 0.5       ,\n",
       "        0.02469136],\n",
       "       [1.        , 0.        , 0.58823529, ..., 0.        , 0.5       ,\n",
       "        0.01234568],\n",
       "       [1.        , 0.        , 0.58823529, ..., 0.21052632, 0.5       ,\n",
       "        0.01234568],\n",
       "       ...,\n",
       "       [0.5       , 1.        , 0.35294118, ..., 0.05263158, 1.        ,\n",
       "        0.02469136],\n",
       "       [0.5       , 0.        , 0.35294118, ..., 0.05263158, 0.        ,\n",
       "        0.01234568],\n",
       "       [0.5       , 0.        , 0.35294118, ..., 0.05263158, 0.        ,\n",
       "        0.01234568]])"
      ]
     },
     "execution_count": 15,
     "metadata": {},
     "output_type": "execute_result"
    }
   ],
   "source": [
    "X_scale"
   ]
  },
  {
   "cell_type": "markdown",
   "metadata": {
    "id": "Y_qxeNwWh8hn"
   },
   "source": [
    "split our dataset into a training set and a test set."
   ]
  },
  {
   "cell_type": "code",
   "execution_count": 16,
   "metadata": {
    "id": "HCNVnZhVYtop"
   },
   "outputs": [],
   "source": [
    "# Splitting the dataset into training and test set\n",
    "from sklearn.model_selection import train_test_split"
   ]
  },
  {
   "cell_type": "code",
   "execution_count": 17,
   "metadata": {
    "id": "QyGIni8FYyWj"
   },
   "outputs": [],
   "source": [
    "X_train, X_val_and_test, Y_train, Y_val_and_test = train_test_split(X_scale, Y, test_size=0.3)"
   ]
  },
  {
   "cell_type": "markdown",
   "metadata": {
    "id": "dZrJ5CImiWJp"
   },
   "source": [
    "we want a separate validation set and test set, we can use the same function to do the split again on val_and_test:"
   ]
  },
  {
   "cell_type": "code",
   "execution_count": 18,
   "metadata": {
    "id": "esE0tIdFY2yw"
   },
   "outputs": [],
   "source": [
    "X_val, X_test, Y_val, Y_test = train_test_split(X_val_and_test, Y_val_and_test, test_size=0.5)"
   ]
  },
  {
   "cell_type": "markdown",
   "metadata": {
    "id": "G2hfHufqignu"
   },
   "source": [
    "In summary, we now have a total of six variables for our datasets we will use:\n",
    "\n",
    "*   X_train (11 input features, 70% of full dataset)\n",
    "*   X_val (11 input features, 15% of full dataset)\n",
    "*   X_test (11 input features, 15% of full dataset)\n",
    "*   Y_train (1 label, 70% of full dataset)\n",
    "*   Y_val (1 label, 15% of full dataset)\n",
    "*   Y_test (1 label, 15% of full dataset)"
   ]
  },
  {
   "cell_type": "code",
   "execution_count": 19,
   "metadata": {
    "colab": {
     "base_uri": "https://localhost:8080/"
    },
    "id": "KamXEI7yY6sR",
    "outputId": "a09bc338-8aca-418a-e1d9-5a9cf5d7db50"
   },
   "outputs": [
    {
     "name": "stdout",
     "output_type": "stream",
     "text": [
      "(350, 11) (75, 11) (75, 11) (350,) (75,) (75,)\n"
     ]
    }
   ],
   "source": [
    "#shapes of the arrays are for each of them\n",
    "print(X_train.shape, X_val.shape, X_test.shape, Y_train.shape, Y_val.shape, Y_test.shape)"
   ]
  },
  {
   "cell_type": "markdown",
   "metadata": {
    "id": "uQ6OSkeSj0mz"
   },
   "source": [
    "## Setting up the Architecture:"
   ]
  },
  {
   "cell_type": "markdown",
   "metadata": {
    "id": "Zuo1loBYkSe-"
   },
   "source": [
    "we want a neural network of:\n",
    "\n",
    "*   Hidden layer 1: 32 neurons, ReLU activation\n",
    "*   Hidden layer 2: 32 neurons, ReLU activation\n",
    "*   Output Layer: 1 neuron, Sigmoid activation"
   ]
  },
  {
   "cell_type": "code",
   "execution_count": 23,
   "metadata": {},
   "outputs": [],
   "source": [
    "# Importing the keras libraries and packages\n",
    "import tensorflow as tf\n",
    "from tensorflow import keras"
   ]
  },
  {
   "cell_type": "code",
   "execution_count": 27,
   "metadata": {
    "id": "g6_zRXgPaF1-"
   },
   "outputs": [],
   "source": [
    "#import the necessary code from Keras\n",
    "from tensorflow.keras.models import Sequential\n",
    "from tensorflow.keras.layers import Dense"
   ]
  },
  {
   "cell_type": "markdown",
   "metadata": {
    "id": "IkzuGzBEkvra"
   },
   "source": [
    "We will be using the Sequential model"
   ]
  },
  {
   "cell_type": "code",
   "execution_count": 28,
   "metadata": {
    "id": "45Vfx4u-aWNO"
   },
   "outputs": [],
   "source": [
    "model = Sequential([\n",
    "    Dense(32, activation='relu', input_shape=(11,)),\n",
    "    Dense(32, activation='relu'),\n",
    "    Dense(1, activation='sigmoid'),\n",
    "])"
   ]
  },
  {
   "cell_type": "markdown",
   "metadata": {
    "id": "PDe4HE8vlZV6"
   },
   "source": [
    "Now we have to configure the model "
   ]
  },
  {
   "cell_type": "code",
   "execution_count": 29,
   "metadata": {
    "id": "BDJXf09IadiY"
   },
   "outputs": [],
   "source": [
    "model.compile(optimizer='sgd',\n",
    "              loss='binary_crossentropy',\n",
    "              metrics=['accuracy'])"
   ]
  },
  {
   "cell_type": "markdown",
   "metadata": {
    "id": "wJR8aEgelvS5"
   },
   "source": [
    "Train the model"
   ]
  },
  {
   "cell_type": "code",
   "execution_count": 30,
   "metadata": {
    "colab": {
     "base_uri": "https://localhost:8080/"
    },
    "id": "oSQ5DC-Faja-",
    "outputId": "b342f785-c042-480c-e9e6-9aef82cbd35b",
    "scrolled": true
   },
   "outputs": [
    {
     "name": "stdout",
     "output_type": "stream",
     "text": [
      "Train on 350 samples, validate on 75 samples\n",
      "Epoch 1/100\n",
      "350/350 [==============================] - 3s 7ms/sample - loss: 0.6931 - accuracy: 0.5029 - val_loss: 0.6816 - val_accuracy: 0.6000\n",
      "Epoch 2/100\n",
      "350/350 [==============================] - 0s 618us/sample - loss: 0.6921 - accuracy: 0.5086 - val_loss: 0.6809 - val_accuracy: 0.6000\n",
      "Epoch 3/100\n",
      "350/350 [==============================] - 0s 197us/sample - loss: 0.6913 - accuracy: 0.5086 - val_loss: 0.6803 - val_accuracy: 0.6000\n",
      "Epoch 4/100\n",
      "350/350 [==============================] - 0s 134us/sample - loss: 0.6903 - accuracy: 0.5000 - val_loss: 0.6797 - val_accuracy: 0.5867\n",
      "Epoch 5/100\n",
      "350/350 [==============================] - 0s 153us/sample - loss: 0.6894 - accuracy: 0.5343 - val_loss: 0.6792 - val_accuracy: 0.5867\n",
      "Epoch 6/100\n",
      "350/350 [==============================] - 0s 179us/sample - loss: 0.6887 - accuracy: 0.5286 - val_loss: 0.6787 - val_accuracy: 0.5733\n",
      "Epoch 7/100\n",
      "350/350 [==============================] - 0s 134us/sample - loss: 0.6881 - accuracy: 0.5257 - val_loss: 0.6782 - val_accuracy: 0.5733\n",
      "Epoch 8/100\n",
      "350/350 [==============================] - 0s 153us/sample - loss: 0.6873 - accuracy: 0.5314 - val_loss: 0.6778 - val_accuracy: 0.5867\n",
      "Epoch 9/100\n",
      "350/350 [==============================] - 0s 134us/sample - loss: 0.6868 - accuracy: 0.5400 - val_loss: 0.6774 - val_accuracy: 0.5867\n",
      "Epoch 10/100\n",
      "350/350 [==============================] - 0s 153us/sample - loss: 0.6862 - accuracy: 0.5314 - val_loss: 0.6770 - val_accuracy: 0.5867\n",
      "Epoch 11/100\n",
      "350/350 [==============================] - 0s 179us/sample - loss: 0.6856 - accuracy: 0.5371 - val_loss: 0.6766 - val_accuracy: 0.5867\n",
      "Epoch 12/100\n",
      "350/350 [==============================] - 0s 152us/sample - loss: 0.6850 - accuracy: 0.5429 - val_loss: 0.6763 - val_accuracy: 0.5867\n",
      "Epoch 13/100\n",
      "350/350 [==============================] - 0s 134us/sample - loss: 0.6844 - accuracy: 0.5400 - val_loss: 0.6759 - val_accuracy: 0.5867\n",
      "Epoch 14/100\n",
      "350/350 [==============================] - 0s 153us/sample - loss: 0.6839 - accuracy: 0.5514 - val_loss: 0.6755 - val_accuracy: 0.5733\n",
      "Epoch 15/100\n",
      "350/350 [==============================] - 0s 134us/sample - loss: 0.6835 - accuracy: 0.5514 - val_loss: 0.6751 - val_accuracy: 0.5733\n",
      "Epoch 16/100\n",
      "350/350 [==============================] - 0s 153us/sample - loss: 0.6828 - accuracy: 0.5600 - val_loss: 0.6747 - val_accuracy: 0.5733\n",
      "Epoch 17/100\n",
      "350/350 [==============================] - 0s 134us/sample - loss: 0.6822 - accuracy: 0.5543 - val_loss: 0.6744 - val_accuracy: 0.5733\n",
      "Epoch 18/100\n",
      "350/350 [==============================] - 0s 153us/sample - loss: 0.6817 - accuracy: 0.5657 - val_loss: 0.6740 - val_accuracy: 0.5733\n",
      "Epoch 19/100\n",
      "350/350 [==============================] - 0s 134us/sample - loss: 0.6814 - accuracy: 0.5600 - val_loss: 0.6737 - val_accuracy: 0.5733\n",
      "Epoch 20/100\n",
      "350/350 [==============================] - 0s 153us/sample - loss: 0.6811 - accuracy: 0.5486 - val_loss: 0.6733 - val_accuracy: 0.5733\n",
      "Epoch 21/100\n",
      "350/350 [==============================] - 0s 134us/sample - loss: 0.6804 - accuracy: 0.5457 - val_loss: 0.6730 - val_accuracy: 0.5733\n",
      "Epoch 22/100\n",
      "350/350 [==============================] - 0s 153us/sample - loss: 0.6801 - accuracy: 0.5457 - val_loss: 0.6727 - val_accuracy: 0.5733\n",
      "Epoch 23/100\n",
      "350/350 [==============================] - 0s 134us/sample - loss: 0.6795 - accuracy: 0.5486 - val_loss: 0.6724 - val_accuracy: 0.5733\n",
      "Epoch 24/100\n",
      "350/350 [==============================] - 0s 153us/sample - loss: 0.6791 - accuracy: 0.5571 - val_loss: 0.6720 - val_accuracy: 0.5600\n",
      "Epoch 25/100\n",
      "350/350 [==============================] - 0s 134us/sample - loss: 0.6787 - accuracy: 0.5514 - val_loss: 0.6717 - val_accuracy: 0.5600\n",
      "Epoch 26/100\n",
      "350/350 [==============================] - 0s 153us/sample - loss: 0.6781 - accuracy: 0.5571 - val_loss: 0.6714 - val_accuracy: 0.5600\n",
      "Epoch 27/100\n",
      "350/350 [==============================] - 0s 134us/sample - loss: 0.6778 - accuracy: 0.5743 - val_loss: 0.6712 - val_accuracy: 0.5733\n",
      "Epoch 28/100\n",
      "350/350 [==============================] - 0s 89us/sample - loss: 0.6773 - accuracy: 0.5743 - val_loss: 0.6709 - val_accuracy: 0.5733\n",
      "Epoch 29/100\n",
      "350/350 [==============================] - 0s 179us/sample - loss: 0.6768 - accuracy: 0.5743 - val_loss: 0.6706 - val_accuracy: 0.5733\n",
      "Epoch 30/100\n",
      "350/350 [==============================] - 0s 89us/sample - loss: 0.6764 - accuracy: 0.5686 - val_loss: 0.6703 - val_accuracy: 0.5733\n",
      "Epoch 31/100\n",
      "350/350 [==============================] - 0s 134us/sample - loss: 0.6760 - accuracy: 0.5743 - val_loss: 0.6700 - val_accuracy: 0.5733\n",
      "Epoch 32/100\n",
      "350/350 [==============================] - 0s 108us/sample - loss: 0.6756 - accuracy: 0.5800 - val_loss: 0.6697 - val_accuracy: 0.5733\n",
      "Epoch 33/100\n",
      "350/350 [==============================] - 0s 179us/sample - loss: 0.6754 - accuracy: 0.5686 - val_loss: 0.6694 - val_accuracy: 0.5733\n",
      "Epoch 34/100\n",
      "350/350 [==============================] - 0s 108us/sample - loss: 0.6748 - accuracy: 0.5943 - val_loss: 0.6692 - val_accuracy: 0.5733\n",
      "Epoch 35/100\n",
      "350/350 [==============================] - 0s 179us/sample - loss: 0.6744 - accuracy: 0.5943 - val_loss: 0.6690 - val_accuracy: 0.5733\n",
      "Epoch 36/100\n",
      "350/350 [==============================] - 0s 108us/sample - loss: 0.6742 - accuracy: 0.5743 - val_loss: 0.6687 - val_accuracy: 0.5733\n",
      "Epoch 37/100\n",
      "350/350 [==============================] - 0s 134us/sample - loss: 0.6737 - accuracy: 0.5971 - val_loss: 0.6685 - val_accuracy: 0.5733\n",
      "Epoch 38/100\n",
      "350/350 [==============================] - 0s 153us/sample - loss: 0.6737 - accuracy: 0.5686 - val_loss: 0.6682 - val_accuracy: 0.5867\n",
      "Epoch 39/100\n",
      "350/350 [==============================] - 0s 153us/sample - loss: 0.6730 - accuracy: 0.6057 - val_loss: 0.6680 - val_accuracy: 0.5867\n",
      "Epoch 40/100\n",
      "350/350 [==============================] - 0s 134us/sample - loss: 0.6730 - accuracy: 0.5829 - val_loss: 0.6678 - val_accuracy: 0.6000\n",
      "Epoch 41/100\n",
      "350/350 [==============================] - 0s 153us/sample - loss: 0.6723 - accuracy: 0.6057 - val_loss: 0.6676 - val_accuracy: 0.5867\n",
      "Epoch 42/100\n",
      "350/350 [==============================] - 0s 134us/sample - loss: 0.6720 - accuracy: 0.5914 - val_loss: 0.6674 - val_accuracy: 0.5867\n",
      "Epoch 43/100\n",
      "350/350 [==============================] - 0s 108us/sample - loss: 0.6721 - accuracy: 0.6257 - val_loss: 0.6672 - val_accuracy: 0.5867\n",
      "Epoch 44/100\n",
      "350/350 [==============================] - 0s 134us/sample - loss: 0.6712 - accuracy: 0.6000 - val_loss: 0.6670 - val_accuracy: 0.6000\n",
      "Epoch 45/100\n",
      "350/350 [==============================] - 0s 153us/sample - loss: 0.6711 - accuracy: 0.6086 - val_loss: 0.6668 - val_accuracy: 0.6000\n",
      "Epoch 46/100\n",
      "350/350 [==============================] - 0s 134us/sample - loss: 0.6705 - accuracy: 0.6257 - val_loss: 0.6666 - val_accuracy: 0.6000\n",
      "Epoch 47/100\n",
      "350/350 [==============================] - 0s 153us/sample - loss: 0.6703 - accuracy: 0.6229 - val_loss: 0.6663 - val_accuracy: 0.6000\n",
      "Epoch 48/100\n",
      "350/350 [==============================] - 0s 134us/sample - loss: 0.6701 - accuracy: 0.6057 - val_loss: 0.6661 - val_accuracy: 0.6000\n",
      "Epoch 49/100\n",
      "350/350 [==============================] - 0s 153us/sample - loss: 0.6697 - accuracy: 0.6200 - val_loss: 0.6658 - val_accuracy: 0.6000\n",
      "Epoch 50/100\n",
      "350/350 [==============================] - 0s 179us/sample - loss: 0.6691 - accuracy: 0.6229 - val_loss: 0.6656 - val_accuracy: 0.6000\n",
      "Epoch 51/100\n",
      "350/350 [==============================] - 0s 108us/sample - loss: 0.6688 - accuracy: 0.6200 - val_loss: 0.6654 - val_accuracy: 0.6000\n",
      "Epoch 52/100\n",
      "350/350 [==============================] - 0s 134us/sample - loss: 0.6686 - accuracy: 0.6229 - val_loss: 0.6651 - val_accuracy: 0.6000\n",
      "Epoch 53/100\n",
      "350/350 [==============================] - 0s 108us/sample - loss: 0.6682 - accuracy: 0.6343 - val_loss: 0.6649 - val_accuracy: 0.6000\n",
      "Epoch 54/100\n",
      "350/350 [==============================] - 0s 134us/sample - loss: 0.6678 - accuracy: 0.6143 - val_loss: 0.6646 - val_accuracy: 0.6000\n",
      "Epoch 55/100\n",
      "350/350 [==============================] - 0s 153us/sample - loss: 0.6677 - accuracy: 0.6343 - val_loss: 0.6644 - val_accuracy: 0.6000\n",
      "Epoch 56/100\n",
      "350/350 [==============================] - 0s 134us/sample - loss: 0.6674 - accuracy: 0.6171 - val_loss: 0.6641 - val_accuracy: 0.6000\n",
      "Epoch 57/100\n",
      "350/350 [==============================] - 0s 153us/sample - loss: 0.6672 - accuracy: 0.6257 - val_loss: 0.6638 - val_accuracy: 0.6000\n",
      "Epoch 58/100\n",
      "350/350 [==============================] - 0s 134us/sample - loss: 0.6665 - accuracy: 0.6229 - val_loss: 0.6635 - val_accuracy: 0.6133\n",
      "Epoch 59/100\n",
      "350/350 [==============================] - 0s 108us/sample - loss: 0.6663 - accuracy: 0.6286 - val_loss: 0.6633 - val_accuracy: 0.6133\n",
      "Epoch 60/100\n",
      "350/350 [==============================] - 0s 134us/sample - loss: 0.6659 - accuracy: 0.6229 - val_loss: 0.6630 - val_accuracy: 0.6000\n",
      "Epoch 61/100\n",
      "350/350 [==============================] - 0s 108us/sample - loss: 0.6657 - accuracy: 0.6171 - val_loss: 0.6627 - val_accuracy: 0.6000\n",
      "Epoch 62/100\n",
      "350/350 [==============================] - 0s 134us/sample - loss: 0.6656 - accuracy: 0.6229 - val_loss: 0.6624 - val_accuracy: 0.6000\n",
      "Epoch 63/100\n",
      "350/350 [==============================] - 0s 153us/sample - loss: 0.6648 - accuracy: 0.6286 - val_loss: 0.6621 - val_accuracy: 0.6000\n",
      "Epoch 64/100\n",
      "350/350 [==============================] - 0s 134us/sample - loss: 0.6646 - accuracy: 0.6200 - val_loss: 0.6618 - val_accuracy: 0.6000\n",
      "Epoch 65/100\n",
      "350/350 [==============================] - 0s 153us/sample - loss: 0.6642 - accuracy: 0.6286 - val_loss: 0.6615 - val_accuracy: 0.6000\n",
      "Epoch 66/100\n",
      "350/350 [==============================] - 0s 134us/sample - loss: 0.6640 - accuracy: 0.6314 - val_loss: 0.6613 - val_accuracy: 0.6133\n",
      "Epoch 67/100\n",
      "350/350 [==============================] - 0s 153us/sample - loss: 0.6637 - accuracy: 0.6286 - val_loss: 0.6610 - val_accuracy: 0.6133\n",
      "Epoch 68/100\n",
      "350/350 [==============================] - 0s 134us/sample - loss: 0.6633 - accuracy: 0.6343 - val_loss: 0.6608 - val_accuracy: 0.6133\n",
      "Epoch 69/100\n",
      "350/350 [==============================] - 0s 153us/sample - loss: 0.6630 - accuracy: 0.6343 - val_loss: 0.6606 - val_accuracy: 0.6133\n",
      "Epoch 70/100\n",
      "350/350 [==============================] - 0s 134us/sample - loss: 0.6628 - accuracy: 0.6257 - val_loss: 0.6602 - val_accuracy: 0.6133\n",
      "Epoch 71/100\n",
      "350/350 [==============================] - 0s 108us/sample - loss: 0.6624 - accuracy: 0.6343 - val_loss: 0.6600 - val_accuracy: 0.6133\n",
      "Epoch 72/100\n",
      "350/350 [==============================] - 0s 134us/sample - loss: 0.6622 - accuracy: 0.6343 - val_loss: 0.6598 - val_accuracy: 0.6133\n",
      "Epoch 73/100\n",
      "350/350 [==============================] - 0s 153us/sample - loss: 0.6618 - accuracy: 0.6343 - val_loss: 0.6596 - val_accuracy: 0.6133\n",
      "Epoch 74/100\n",
      "350/350 [==============================] - 0s 179us/sample - loss: 0.6614 - accuracy: 0.6400 - val_loss: 0.6593 - val_accuracy: 0.6133\n",
      "Epoch 75/100\n",
      "350/350 [==============================] - 0s 153us/sample - loss: 0.6611 - accuracy: 0.6371 - val_loss: 0.6591 - val_accuracy: 0.6267\n",
      "Epoch 76/100\n",
      "350/350 [==============================] - 0s 197us/sample - loss: 0.6608 - accuracy: 0.6371 - val_loss: 0.6588 - val_accuracy: 0.6267\n",
      "Epoch 77/100\n",
      "350/350 [==============================] - 0s 134us/sample - loss: 0.6605 - accuracy: 0.6400 - val_loss: 0.6586 - val_accuracy: 0.6267\n",
      "Epoch 78/100\n",
      "350/350 [==============================] - 0s 153us/sample - loss: 0.6605 - accuracy: 0.6400 - val_loss: 0.6584 - val_accuracy: 0.6267\n",
      "Epoch 79/100\n",
      "350/350 [==============================] - 0s 134us/sample - loss: 0.6600 - accuracy: 0.6343 - val_loss: 0.6582 - val_accuracy: 0.6267\n",
      "Epoch 80/100\n",
      "350/350 [==============================] - 0s 153us/sample - loss: 0.6596 - accuracy: 0.6371 - val_loss: 0.6580 - val_accuracy: 0.6267\n",
      "Epoch 81/100\n",
      "350/350 [==============================] - 0s 179us/sample - loss: 0.6593 - accuracy: 0.6343 - val_loss: 0.6578 - val_accuracy: 0.6267\n",
      "Epoch 82/100\n",
      "350/350 [==============================] - 0s 153us/sample - loss: 0.6591 - accuracy: 0.6371 - val_loss: 0.6576 - val_accuracy: 0.6267\n",
      "Epoch 83/100\n",
      "350/350 [==============================] - 0s 153us/sample - loss: 0.6585 - accuracy: 0.6371 - val_loss: 0.6574 - val_accuracy: 0.6267\n",
      "Epoch 84/100\n",
      "350/350 [==============================] - 0s 179us/sample - loss: 0.6583 - accuracy: 0.6343 - val_loss: 0.6571 - val_accuracy: 0.6400\n",
      "Epoch 85/100\n",
      "350/350 [==============================] - 0s 153us/sample - loss: 0.6579 - accuracy: 0.6400 - val_loss: 0.6569 - val_accuracy: 0.6400\n",
      "Epoch 86/100\n",
      "350/350 [==============================] - 0s 223us/sample - loss: 0.6576 - accuracy: 0.6314 - val_loss: 0.6567 - val_accuracy: 0.6533\n",
      "Epoch 87/100\n",
      "350/350 [==============================] - 0s 153us/sample - loss: 0.6575 - accuracy: 0.6286 - val_loss: 0.6565 - val_accuracy: 0.6400\n",
      "Epoch 88/100\n",
      "350/350 [==============================] - 0s 197us/sample - loss: 0.6570 - accuracy: 0.6400 - val_loss: 0.6562 - val_accuracy: 0.6400\n",
      "Epoch 89/100\n",
      "350/350 [==============================] - 0s 179us/sample - loss: 0.6566 - accuracy: 0.6343 - val_loss: 0.6560 - val_accuracy: 0.6533\n",
      "Epoch 90/100\n",
      "350/350 [==============================] - 0s 134us/sample - loss: 0.6563 - accuracy: 0.6400 - val_loss: 0.6558 - val_accuracy: 0.6667\n",
      "Epoch 91/100\n",
      "350/350 [==============================] - 0s 197us/sample - loss: 0.6561 - accuracy: 0.6457 - val_loss: 0.6556 - val_accuracy: 0.6533\n",
      "Epoch 92/100\n",
      "350/350 [==============================] - 0s 179us/sample - loss: 0.6559 - accuracy: 0.6457 - val_loss: 0.6554 - val_accuracy: 0.6533\n",
      "Epoch 93/100\n",
      "350/350 [==============================] - 0s 134us/sample - loss: 0.6555 - accuracy: 0.6457 - val_loss: 0.6552 - val_accuracy: 0.6533\n",
      "Epoch 94/100\n",
      "350/350 [==============================] - 0s 153us/sample - loss: 0.6555 - accuracy: 0.6400 - val_loss: 0.6549 - val_accuracy: 0.6533\n",
      "Epoch 95/100\n",
      "350/350 [==============================] - 0s 179us/sample - loss: 0.6552 - accuracy: 0.6486 - val_loss: 0.6547 - val_accuracy: 0.6533\n",
      "Epoch 96/100\n",
      "350/350 [==============================] - 0s 153us/sample - loss: 0.6545 - accuracy: 0.6400 - val_loss: 0.6544 - val_accuracy: 0.6667\n",
      "Epoch 97/100\n",
      "350/350 [==============================] - 0s 134us/sample - loss: 0.6544 - accuracy: 0.6514 - val_loss: 0.6542 - val_accuracy: 0.6667\n",
      "Epoch 98/100\n",
      "350/350 [==============================] - 0s 153us/sample - loss: 0.6540 - accuracy: 0.6514 - val_loss: 0.6540 - val_accuracy: 0.6533\n",
      "Epoch 99/100\n",
      "350/350 [==============================] - 0s 153us/sample - loss: 0.6537 - accuracy: 0.6514 - val_loss: 0.6538 - val_accuracy: 0.6533\n",
      "Epoch 100/100\n",
      "350/350 [==============================] - 0s 179us/sample - loss: 0.6533 - accuracy: 0.6514 - val_loss: 0.6535 - val_accuracy: 0.6533\n"
     ]
    }
   ],
   "source": [
    "hist = model.fit(X_train, Y_train,\n",
    "          batch_size=32, epochs=100,\n",
    "          validation_data=(X_val, Y_val))"
   ]
  },
  {
   "cell_type": "markdown",
   "metadata": {
    "id": "u6mF9FMRmEpj"
   },
   "source": [
    "## Making predictions and evaluating the model"
   ]
  },
  {
   "cell_type": "code",
   "execution_count": 31,
   "metadata": {
    "colab": {
     "base_uri": "https://localhost:8080/"
    },
    "id": "XdMl1ocAanBG",
    "outputId": "f7f67dee-03bb-49a1-d1cd-967325008f0b"
   },
   "outputs": [
    {
     "name": "stdout",
     "output_type": "stream",
     "text": [
      "75/75 [==============================] - 1s 16ms/sample - loss: 0.6778 - accuracy: 0.5333\n"
     ]
    },
    {
     "data": {
      "text/plain": [
       "0.53333336"
      ]
     },
     "execution_count": 31,
     "metadata": {},
     "output_type": "execute_result"
    }
   ],
   "source": [
    "model.evaluate(X_test, Y_test)[1]"
   ]
  },
  {
   "cell_type": "code",
   "execution_count": 34,
   "metadata": {},
   "outputs": [],
   "source": [
    "# Predicting the Test set results\n",
    "y_pred = model.predict(X_test)\n",
    "y_pred = (y_pred > 0.5)"
   ]
  },
  {
   "cell_type": "code",
   "execution_count": 35,
   "metadata": {
    "scrolled": true
   },
   "outputs": [
    {
     "data": {
      "text/plain": [
       "array([[False],\n",
       "       [ True],\n",
       "       [ True],\n",
       "       [ True],\n",
       "       [ True],\n",
       "       [False],\n",
       "       [ True],\n",
       "       [ True],\n",
       "       [ True],\n",
       "       [ True],\n",
       "       [ True],\n",
       "       [ True],\n",
       "       [ True],\n",
       "       [False],\n",
       "       [ True],\n",
       "       [ True],\n",
       "       [ True],\n",
       "       [ True],\n",
       "       [ True],\n",
       "       [ True],\n",
       "       [False],\n",
       "       [ True],\n",
       "       [ True],\n",
       "       [False],\n",
       "       [False],\n",
       "       [False],\n",
       "       [ True],\n",
       "       [ True],\n",
       "       [ True],\n",
       "       [False],\n",
       "       [ True],\n",
       "       [ True],\n",
       "       [False],\n",
       "       [False],\n",
       "       [False],\n",
       "       [ True],\n",
       "       [ True],\n",
       "       [ True],\n",
       "       [ True],\n",
       "       [False],\n",
       "       [ True],\n",
       "       [ True],\n",
       "       [ True],\n",
       "       [ True],\n",
       "       [False],\n",
       "       [False],\n",
       "       [ True],\n",
       "       [ True],\n",
       "       [ True],\n",
       "       [False],\n",
       "       [False],\n",
       "       [False],\n",
       "       [False],\n",
       "       [ True],\n",
       "       [ True],\n",
       "       [False],\n",
       "       [ True],\n",
       "       [ True],\n",
       "       [ True],\n",
       "       [ True],\n",
       "       [False],\n",
       "       [ True],\n",
       "       [ True],\n",
       "       [ True],\n",
       "       [ True],\n",
       "       [ True],\n",
       "       [ True],\n",
       "       [False],\n",
       "       [ True],\n",
       "       [ True],\n",
       "       [ True],\n",
       "       [False],\n",
       "       [ True],\n",
       "       [ True],\n",
       "       [ True]])"
      ]
     },
     "execution_count": 35,
     "metadata": {},
     "output_type": "execute_result"
    }
   ],
   "source": [
    "y_pred"
   ]
  },
  {
   "cell_type": "code",
   "execution_count": 36,
   "metadata": {},
   "outputs": [
    {
     "name": "stdout",
     "output_type": "stream",
     "text": [
      "Confusion Matrix: \n",
      " [[12 25]\n",
      " [10 28]]\n"
     ]
    }
   ],
   "source": [
    "# Making the Confusion Matrix\n",
    "from sklearn.metrics import confusion_matrix\n",
    "\n",
    "cm = confusion_matrix(Y_test, y_pred)\n",
    "print('Confusion Matrix: \\n', cm)"
   ]
  },
  {
   "cell_type": "markdown",
   "metadata": {
    "id": "HAn04kG1mt8H"
   },
   "source": [
    "## Visualization\n",
    "to visualize the training loss and the validation loss:"
   ]
  },
  {
   "cell_type": "code",
   "execution_count": 37,
   "metadata": {
    "colab": {
     "base_uri": "https://localhost:8080/",
     "height": 295
    },
    "id": "ALBD8WczbMRz",
    "outputId": "52410d78-a49c-4f1a-e6b5-0ffcdd7b0fac"
   },
   "outputs": [
    {
     "data": {
      "image/png": "[encoded data removed]",
      "text/plain": [
       "<Figure size 432x288 with 1 Axes>"
      ]
     },
     "metadata": {
      "needs_background": "light"
     },
     "output_type": "display_data"
    }
   ],
   "source": [
    "plt.plot(hist.history['loss'])\n",
    "plt.plot(hist.history['val_loss'])\n",
    "plt.title('Model loss')\n",
    "plt.ylabel('Loss')\n",
    "plt.xlabel('Epoch')\n",
    "plt.legend(['Train', 'Val'], loc='upper right')\n",
    "plt.show()"
   ]
  },
  {
   "cell_type": "markdown",
   "metadata": {
    "id": "ubg-H6SNm3pb"
   },
   "source": [
    "to plot our training accuracy and validation accuracy:"
   ]
  },
  {
   "cell_type": "code",
   "execution_count": 38,
   "metadata": {
    "colab": {
     "base_uri": "https://localhost:8080/",
     "height": 295
    },
    "id": "oi79Pz97bbpT",
    "outputId": "d5af26fd-5d60-4d3b-cf55-0ae546a2a84f"
   },
   "outputs": [
    {
     "data": {
      "image/png": "[encoded data removed]",
      "text/plain": [
       "<Figure size 432x288 with 1 Axes>"
      ]
     },
     "metadata": {
      "needs_background": "light"
     },
     "output_type": "display_data"
    }
   ],
   "source": [
    "plt.plot(hist.history['accuracy'])\n",
    "plt.plot(hist.history['val_accuracy'])\n",
    "plt.title('Model accuracy')\n",
    "plt.ylabel('Accuracy')\n",
    "plt.xlabel('Epoch')\n",
    "plt.legend(['Train', 'Val'], loc='lower right')\n",
    "plt.show()"
   ]
  },
  {
   "cell_type": "markdown",
   "metadata": {
    "id": "OJn7_HxLnKy8"
   },
   "source": [
    "## Adding Regularization to our Neural Network"
   ]
  },
  {
   "cell_type": "markdown",
   "metadata": {
    "id": "2jr9t1GMnaln"
   },
   "source": [
    "Here, we’ve made a much larger model and we’ve use the Adam optimizer. Adam is one of the most common optimizers. It reaches the lower loss function faster. "
   ]
  },
  {
   "cell_type": "code",
   "execution_count": 39,
   "metadata": {
    "colab": {
     "base_uri": "https://localhost:8080/"
    },
    "id": "nJg-6-Tzbgd0",
    "outputId": "16d7af3d-94a0-4dc9-cbb1-1f01988dadc6",
    "scrolled": true
   },
   "outputs": [
    {
     "name": "stdout",
     "output_type": "stream",
     "text": [
      "Train on 350 samples, validate on 75 samples\n",
      "Epoch 1/100\n",
      "350/350 [==============================] - 4s 11ms/sample - loss: 0.6858 - accuracy: 0.5714 - val_loss: 0.6635 - val_accuracy: 0.6000\n",
      "Epoch 2/100\n",
      "350/350 [==============================] - 1s 2ms/sample - loss: 0.6373 - accuracy: 0.6286 - val_loss: 0.6482 - val_accuracy: 0.6267\n",
      "Epoch 3/100\n",
      "350/350 [==============================] - 1s 2ms/sample - loss: 0.6147 - accuracy: 0.6514 - val_loss: 0.6563 - val_accuracy: 0.6133\n",
      "Epoch 4/100\n",
      "350/350 [==============================] - 1s 2ms/sample - loss: 0.5861 - accuracy: 0.6857 - val_loss: 0.6517 - val_accuracy: 0.6533\n",
      "Epoch 5/100\n",
      "350/350 [==============================] - ETA: 0s - loss: 0.5863 - accuracy: 0.68 - 1s 2ms/sample - loss: 0.5913 - accuracy: 0.6829 - val_loss: 0.6724 - val_accuracy: 0.6533\n",
      "Epoch 6/100\n",
      "350/350 [==============================] - 1s 2ms/sample - loss: 0.5687 - accuracy: 0.6886 - val_loss: 0.6754 - val_accuracy: 0.6267\n",
      "Epoch 7/100\n",
      "350/350 [==============================] - 1s 2ms/sample - loss: 0.5366 - accuracy: 0.7171 - val_loss: 0.7275 - val_accuracy: 0.5600\n",
      "Epoch 8/100\n",
      "350/350 [==============================] - 1s 2ms/sample - loss: 0.5176 - accuracy: 0.7286 - val_loss: 0.7315 - val_accuracy: 0.6000\n",
      "Epoch 9/100\n",
      "350/350 [==============================] - 1s 2ms/sample - loss: 0.4922 - accuracy: 0.7486 - val_loss: 0.7194 - val_accuracy: 0.6533\n",
      "Epoch 10/100\n",
      "350/350 [==============================] - 1s 2ms/sample - loss: 0.4774 - accuracy: 0.7714 - val_loss: 0.9013 - val_accuracy: 0.6267\n",
      "Epoch 11/100\n",
      "350/350 [==============================] - 1s 2ms/sample - loss: 0.4619 - accuracy: 0.7486 - val_loss: 0.8346 - val_accuracy: 0.6400\n",
      "Epoch 12/100\n",
      "350/350 [==============================] - 1s 2ms/sample - loss: 0.4963 - accuracy: 0.7200 - val_loss: 0.8370 - val_accuracy: 0.6000\n",
      "Epoch 13/100\n",
      "350/350 [==============================] - 1s 2ms/sample - loss: 0.4484 - accuracy: 0.7829 - val_loss: 0.8847 - val_accuracy: 0.5867\n",
      "Epoch 14/100\n",
      "350/350 [==============================] - 1s 2ms/sample - loss: 0.4255 - accuracy: 0.7857 - val_loss: 0.9304 - val_accuracy: 0.6667\n",
      "Epoch 15/100\n",
      "350/350 [==============================] - 1s 2ms/sample - loss: 0.4113 - accuracy: 0.7886 - val_loss: 1.0683 - val_accuracy: 0.6267\n",
      "Epoch 16/100\n",
      "350/350 [==============================] - 1s 2ms/sample - loss: 0.4011 - accuracy: 0.8057 - val_loss: 0.9690 - val_accuracy: 0.6000\n",
      "Epoch 17/100\n",
      "350/350 [==============================] - 1s 2ms/sample - loss: 0.3914 - accuracy: 0.8029 - val_loss: 1.1965 - val_accuracy: 0.6133\n",
      "Epoch 18/100\n",
      "350/350 [==============================] - 1s 2ms/sample - loss: 0.3993 - accuracy: 0.8143 - val_loss: 1.1162 - val_accuracy: 0.61330s - loss: 0.3875 - accuracy: \n",
      "Epoch 19/100\n",
      "350/350 [==============================] - 1s 2ms/sample - loss: 0.3571 - accuracy: 0.8457 - val_loss: 1.1953 - val_accuracy: 0.6400\n",
      "Epoch 20/100\n",
      "350/350 [==============================] - 1s 2ms/sample - loss: 0.3401 - accuracy: 0.8457 - val_loss: 1.1231 - val_accuracy: 0.6267\n",
      "Epoch 21/100\n",
      "350/350 [==============================] - 1s 2ms/sample - loss: 0.3566 - accuracy: 0.8314 - val_loss: 1.2218 - val_accuracy: 0.6133\n",
      "Epoch 22/100\n",
      "350/350 [==============================] - 1s 2ms/sample - loss: 0.3221 - accuracy: 0.8457 - val_loss: 1.2165 - val_accuracy: 0.6533\n",
      "Epoch 23/100\n",
      "350/350 [==============================] - 1s 2ms/sample - loss: 0.3419 - accuracy: 0.8429 - val_loss: 1.8332 - val_accuracy: 0.5867\n",
      "Epoch 24/100\n",
      "350/350 [==============================] - 1s 2ms/sample - loss: 0.3250 - accuracy: 0.8486 - val_loss: 1.2922 - val_accuracy: 0.6133\n",
      "Epoch 25/100\n",
      "350/350 [==============================] - 1s 2ms/sample - loss: 0.3065 - accuracy: 0.8571 - val_loss: 1.5294 - val_accuracy: 0.6667\n",
      "Epoch 26/100\n",
      "350/350 [==============================] - 1s 2ms/sample - loss: 0.3216 - accuracy: 0.8429 - val_loss: 1.2832 - val_accuracy: 0.5733\n",
      "Epoch 27/100\n",
      "350/350 [==============================] - 1s 2ms/sample - loss: 0.3012 - accuracy: 0.8543 - val_loss: 1.4934 - val_accuracy: 0.6133\n",
      "Epoch 28/100\n",
      "350/350 [==============================] - 1s 2ms/sample - loss: 0.2651 - accuracy: 0.8914 - val_loss: 1.7300 - val_accuracy: 0.5333\n",
      "Epoch 29/100\n",
      "350/350 [==============================] - 1s 2ms/sample - loss: 0.2814 - accuracy: 0.8657 - val_loss: 2.0661 - val_accuracy: 0.6000\n",
      "Epoch 30/100\n",
      "350/350 [==============================] - 1s 2ms/sample - loss: 0.3005 - accuracy: 0.8657 - val_loss: 1.4883 - val_accuracy: 0.6000\n",
      "Epoch 31/100\n",
      "350/350 [==============================] - 1s 2ms/sample - loss: 0.2981 - accuracy: 0.8600 - val_loss: 1.6876 - val_accuracy: 0.6000\n",
      "Epoch 32/100\n",
      "350/350 [==============================] - 1s 2ms/sample - loss: 0.3119 - accuracy: 0.8571 - val_loss: 1.5158 - val_accuracy: 0.5733\n",
      "Epoch 33/100\n",
      "350/350 [==============================] - 1s 2ms/sample - loss: 0.2735 - accuracy: 0.8657 - val_loss: 1.6881 - val_accuracy: 0.5467\n",
      "Epoch 34/100\n",
      "350/350 [==============================] - 1s 2ms/sample - loss: 0.2371 - accuracy: 0.8914 - val_loss: 1.8365 - val_accuracy: 0.5867\n",
      "Epoch 35/100\n",
      "350/350 [==============================] - 1s 2ms/sample - loss: 0.2067 - accuracy: 0.9143 - val_loss: 2.0792 - val_accuracy: 0.6267\n",
      "Epoch 36/100\n",
      "350/350 [==============================] - 1s 2ms/sample - loss: 0.1963 - accuracy: 0.9086 - val_loss: 2.4895 - val_accuracy: 0.5867\n",
      "Epoch 37/100\n",
      "350/350 [==============================] - 1s 2ms/sample - loss: 0.1771 - accuracy: 0.9057 - val_loss: 2.3887 - val_accuracy: 0.5467\n",
      "Epoch 38/100\n",
      "350/350 [==============================] - 1s 2ms/sample - loss: 0.2176 - accuracy: 0.9143 - val_loss: 2.3517 - val_accuracy: 0.6133\n",
      "Epoch 39/100\n",
      "350/350 [==============================] - 1s 2ms/sample - loss: 0.2443 - accuracy: 0.8914 - val_loss: 1.9392 - val_accuracy: 0.6000\n",
      "Epoch 40/100\n",
      "350/350 [==============================] - 1s 2ms/sample - loss: 0.2127 - accuracy: 0.9057 - val_loss: 2.1692 - val_accuracy: 0.6533\n",
      "Epoch 41/100\n",
      "350/350 [==============================] - 1s 2ms/sample - loss: 0.1821 - accuracy: 0.9114 - val_loss: 2.4922 - val_accuracy: 0.6133\n",
      "Epoch 42/100\n",
      "350/350 [==============================] - 1s 2ms/sample - loss: 0.2010 - accuracy: 0.9200 - val_loss: 2.3305 - val_accuracy: 0.5600\n",
      "Epoch 43/100\n",
      "350/350 [==============================] - 1s 2ms/sample - loss: 0.1990 - accuracy: 0.9143 - val_loss: 2.7596 - val_accuracy: 0.5467\n",
      "Epoch 44/100\n",
      "350/350 [==============================] - 1s 2ms/sample - loss: 0.2686 - accuracy: 0.8800 - val_loss: 2.2499 - val_accuracy: 0.4933\n",
      "Epoch 45/100\n",
      "350/350 [==============================] - 1s 2ms/sample - loss: 0.2244 - accuracy: 0.9057 - val_loss: 2.4258 - val_accuracy: 0.5467\n",
      "Epoch 46/100\n",
      "350/350 [==============================] - 1s 2ms/sample - loss: 0.2135 - accuracy: 0.8943 - val_loss: 2.1376 - val_accuracy: 0.6267\n",
      "Epoch 47/100\n",
      "350/350 [==============================] - 1s 2ms/sample - loss: 0.2307 - accuracy: 0.8971 - val_loss: 2.6849 - val_accuracy: 0.5733\n",
      "Epoch 48/100\n",
      "350/350 [==============================] - 1s 2ms/sample - loss: 0.2314 - accuracy: 0.9029 - val_loss: 2.0749 - val_accuracy: 0.5867\n",
      "Epoch 49/100\n",
      "350/350 [==============================] - 1s 2ms/sample - loss: 0.1650 - accuracy: 0.9400 - val_loss: 2.7957 - val_accuracy: 0.6000\n",
      "Epoch 50/100\n",
      "350/350 [==============================] - 1s 2ms/sample - loss: 0.1671 - accuracy: 0.9200 - val_loss: 2.7130 - val_accuracy: 0.5467\n",
      "Epoch 51/100\n",
      "350/350 [==============================] - 1s 2ms/sample - loss: 0.2045 - accuracy: 0.9114 - val_loss: 2.7072 - val_accuracy: 0.5600\n",
      "Epoch 52/100\n",
      "350/350 [==============================] - 1s 2ms/sample - loss: 0.1892 - accuracy: 0.9057 - val_loss: 2.1710 - val_accuracy: 0.4800\n",
      "Epoch 53/100\n",
      "350/350 [==============================] - 1s 2ms/sample - loss: 0.1517 - accuracy: 0.9286 - val_loss: 3.0129 - val_accuracy: 0.6000\n",
      "Epoch 54/100\n",
      "350/350 [==============================] - 1s 2ms/sample - loss: 0.1468 - accuracy: 0.9343 - val_loss: 2.9998 - val_accuracy: 0.5467\n",
      "Epoch 55/100\n",
      "350/350 [==============================] - 1s 2ms/sample - loss: 0.1411 - accuracy: 0.9286 - val_loss: 2.8914 - val_accuracy: 0.5467\n",
      "Epoch 56/100\n",
      "350/350 [==============================] - 1s 2ms/sample - loss: 0.1454 - accuracy: 0.9171 - val_loss: 3.3978 - val_accuracy: 0.5867\n",
      "Epoch 57/100\n",
      "350/350 [==============================] - 1s 2ms/sample - loss: 0.1603 - accuracy: 0.9143 - val_loss: 3.1536 - val_accuracy: 0.5467\n",
      "Epoch 58/100\n",
      "350/350 [==============================] - 1s 2ms/sample - loss: 0.1878 - accuracy: 0.9257 - val_loss: 3.2966 - val_accuracy: 0.5600\n",
      "Epoch 59/100\n",
      "350/350 [==============================] - 1s 2ms/sample - loss: 0.1607 - accuracy: 0.9229 - val_loss: 2.5413 - val_accuracy: 0.5867\n",
      "Epoch 60/100\n",
      "350/350 [==============================] - 1s 2ms/sample - loss: 0.1540 - accuracy: 0.9286 - val_loss: 2.9059 - val_accuracy: 0.6000\n",
      "Epoch 61/100\n",
      "350/350 [==============================] - 1s 2ms/sample - loss: 0.1282 - accuracy: 0.9457 - val_loss: 3.5978 - val_accuracy: 0.5867\n",
      "Epoch 62/100\n",
      "350/350 [==============================] - 1s 2ms/sample - loss: 0.1146 - accuracy: 0.9457 - val_loss: 3.3862 - val_accuracy: 0.5733\n",
      "Epoch 63/100\n",
      "350/350 [==============================] - 1s 2ms/sample - loss: 0.1207 - accuracy: 0.9286 - val_loss: 3.7756 - val_accuracy: 0.5600\n",
      "Epoch 64/100\n",
      "350/350 [==============================] - 1s 2ms/sample - loss: 0.1231 - accuracy: 0.9400 - val_loss: 3.0603 - val_accuracy: 0.6133\n",
      "Epoch 65/100\n",
      "350/350 [==============================] - 1s 2ms/sample - loss: 0.1922 - accuracy: 0.9086 - val_loss: 2.6871 - val_accuracy: 0.5467\n",
      "Epoch 66/100\n",
      "350/350 [==============================] - 1s 2ms/sample - loss: 0.1685 - accuracy: 0.9171 - val_loss: 3.0835 - val_accuracy: 0.6000\n",
      "Epoch 67/100\n",
      "350/350 [==============================] - 1s 2ms/sample - loss: 0.1455 - accuracy: 0.9229 - val_loss: 2.9079 - val_accuracy: 0.6000\n",
      "Epoch 68/100\n",
      "350/350 [==============================] - 1s 2ms/sample - loss: 0.1380 - accuracy: 0.9286 - val_loss: 3.0915 - val_accuracy: 0.6000\n",
      "Epoch 69/100\n",
      "350/350 [==============================] - 1s 2ms/sample - loss: 0.1263 - accuracy: 0.9371 - val_loss: 3.4296 - val_accuracy: 0.5600\n",
      "Epoch 70/100\n",
      "350/350 [==============================] - 1s 2ms/sample - loss: 0.1673 - accuracy: 0.9400 - val_loss: 3.2217 - val_accuracy: 0.5733\n",
      "Epoch 71/100\n",
      "350/350 [==============================] - 1s 2ms/sample - loss: 0.1604 - accuracy: 0.9257 - val_loss: 3.1252 - val_accuracy: 0.5200\n",
      "Epoch 72/100\n",
      "350/350 [==============================] - 1s 2ms/sample - loss: 0.1319 - accuracy: 0.9343 - val_loss: 3.3739 - val_accuracy: 0.5600\n",
      "Epoch 73/100\n",
      "350/350 [==============================] - 1s 2ms/sample - loss: 0.1067 - accuracy: 0.9457 - val_loss: 3.4043 - val_accuracy: 0.5600\n",
      "Epoch 74/100\n",
      "350/350 [==============================] - 1s 2ms/sample - loss: 0.0942 - accuracy: 0.9514 - val_loss: 4.0408 - val_accuracy: 0.5600\n",
      "Epoch 75/100\n",
      "350/350 [==============================] - 1s 2ms/sample - loss: 0.1010 - accuracy: 0.9486 - val_loss: 3.9459 - val_accuracy: 0.5867\n",
      "Epoch 76/100\n",
      "350/350 [==============================] - 1s 2ms/sample - loss: 0.1065 - accuracy: 0.9429 - val_loss: 4.0389 - val_accuracy: 0.5867\n",
      "Epoch 77/100\n",
      "350/350 [==============================] - 1s 2ms/sample - loss: 0.1138 - accuracy: 0.9457 - val_loss: 3.6901 - val_accuracy: 0.5867\n",
      "Epoch 78/100\n",
      "350/350 [==============================] - 1s 2ms/sample - loss: 0.1131 - accuracy: 0.9429 - val_loss: 3.3227 - val_accuracy: 0.5733\n",
      "Epoch 79/100\n",
      "350/350 [==============================] - 1s 2ms/sample - loss: 0.1204 - accuracy: 0.9400 - val_loss: 3.5090 - val_accuracy: 0.6000\n",
      "Epoch 80/100\n",
      "350/350 [==============================] - 1s 2ms/sample - loss: 0.1050 - accuracy: 0.9400 - val_loss: 4.0134 - val_accuracy: 0.5733\n",
      "Epoch 81/100\n",
      "350/350 [==============================] - 1s 2ms/sample - loss: 0.0989 - accuracy: 0.9429 - val_loss: 4.1877 - val_accuracy: 0.5867\n",
      "Epoch 82/100\n",
      "350/350 [==============================] - 1s 2ms/sample - loss: 0.0905 - accuracy: 0.9543 - val_loss: 4.5027 - val_accuracy: 0.5733\n",
      "Epoch 83/100\n",
      "350/350 [==============================] - 1s 2ms/sample - loss: 0.1095 - accuracy: 0.9457 - val_loss: 3.9665 - val_accuracy: 0.5467\n",
      "Epoch 84/100\n",
      "350/350 [==============================] - 1s 2ms/sample - loss: 0.0941 - accuracy: 0.9457 - val_loss: 4.0430 - val_accuracy: 0.5733oss: 0.0968 - accuracy: \n",
      "Epoch 85/100\n",
      "350/350 [==============================] - 1s 2ms/sample - loss: 0.0846 - accuracy: 0.9486 - val_loss: 4.4468 - val_accuracy: 0.5867\n",
      "Epoch 86/100\n",
      "350/350 [==============================] - 1s 2ms/sample - loss: 0.0861 - accuracy: 0.9457 - val_loss: 4.5745 - val_accuracy: 0.5600\n",
      "Epoch 87/100\n",
      "350/350 [==============================] - 1s 2ms/sample - loss: 0.0833 - accuracy: 0.9486 - val_loss: 4.6132 - val_accuracy: 0.5733\n",
      "Epoch 88/100\n",
      "350/350 [==============================] - 1s 2ms/sample - loss: 0.0840 - accuracy: 0.9486 - val_loss: 4.7684 - val_accuracy: 0.5600\n",
      "Epoch 89/100\n",
      "350/350 [==============================] - 1s 2ms/sample - loss: 0.0882 - accuracy: 0.9486 - val_loss: 4.4302 - val_accuracy: 0.5733\n",
      "Epoch 90/100\n",
      "350/350 [==============================] - 1s 2ms/sample - loss: 0.0876 - accuracy: 0.9457 - val_loss: 4.6911 - val_accuracy: 0.5733\n",
      "Epoch 91/100\n",
      "350/350 [==============================] - 1s 2ms/sample - loss: 0.0879 - accuracy: 0.9457 - val_loss: 5.0198 - val_accuracy: 0.5867\n",
      "Epoch 92/100\n",
      "350/350 [==============================] - 1s 2ms/sample - loss: 0.0844 - accuracy: 0.9486 - val_loss: 4.9871 - val_accuracy: 0.5733\n",
      "Epoch 93/100\n",
      "350/350 [==============================] - 1s 2ms/sample - loss: 0.0849 - accuracy: 0.9571 - val_loss: 5.0215 - val_accuracy: 0.5733\n",
      "Epoch 94/100\n",
      "350/350 [==============================] - 1s 2ms/sample - loss: 0.0827 - accuracy: 0.9514 - val_loss: 5.2381 - val_accuracy: 0.5867\n",
      "Epoch 95/100\n",
      "350/350 [==============================] - 1s 2ms/sample - loss: 0.0836 - accuracy: 0.9543 - val_loss: 5.3842 - val_accuracy: 0.5867\n",
      "Epoch 96/100\n",
      "350/350 [==============================] - 1s 2ms/sample - loss: 0.0824 - accuracy: 0.9514 - val_loss: 5.4448 - val_accuracy: 0.5733\n",
      "Epoch 97/100\n",
      "350/350 [==============================] - 1s 2ms/sample - loss: 0.0802 - accuracy: 0.9543 - val_loss: 5.5232 - val_accuracy: 0.5733\n",
      "Epoch 98/100\n",
      "350/350 [==============================] - 1s 2ms/sample - loss: 0.0803 - accuracy: 0.9486 - val_loss: 5.5388 - val_accuracy: 0.5867\n",
      "Epoch 99/100\n",
      "350/350 [==============================] - 1s 2ms/sample - loss: 0.0791 - accuracy: 0.9514 - val_loss: 5.6458 - val_accuracy: 0.5867\n",
      "Epoch 100/100\n",
      "350/350 [==============================] - 1s 2ms/sample - loss: 0.0780 - accuracy: 0.9571 - val_loss: 5.8030 - val_accuracy: 0.5867\n"
     ]
    }
   ],
   "source": [
    "model_2 = Sequential([\n",
    "    Dense(1000, activation='relu', input_shape=(11,)),\n",
    "    Dense(1000, activation='relu'),\n",
    "    Dense(1000, activation='relu'),\n",
    "    Dense(1000, activation='relu'),\n",
    "    Dense(1, activation='sigmoid'),\n",
    "])\n",
    "\n",
    "model_2.compile(optimizer='adam',\n",
    "              loss='binary_crossentropy',\n",
    "              metrics=['accuracy'])\n",
    "              \n",
    "hist_2 = model_2.fit(X_train, Y_train,\n",
    "          batch_size=32, epochs=100,\n",
    "          validation_data=(X_val, Y_val))"
   ]
  },
  {
   "cell_type": "code",
   "execution_count": 40,
   "metadata": {},
   "outputs": [
    {
     "name": "stdout",
     "output_type": "stream",
     "text": [
      "75/75 [==============================] - 0s 503us/sample - loss: 3.4016 - accuracy: 0.6133\n"
     ]
    },
    {
     "data": {
      "text/plain": [
       "0.61333334"
      ]
     },
     "execution_count": 40,
     "metadata": {},
     "output_type": "execute_result"
    }
   ],
   "source": [
    "model_2.evaluate(X_test, Y_test)[1]"
   ]
  },
  {
   "cell_type": "code",
   "execution_count": 41,
   "metadata": {
    "colab": {
     "base_uri": "https://localhost:8080/",
     "height": 295
    },
    "id": "X_tSglgYcOkV",
    "outputId": "e9cda1dd-4f12-4a9d-e772-70bec68b1cbd"
   },
   "outputs": [
    {
     "data": {
      "image/png": "[encoded data removed]",
      "text/plain": [
       "<Figure size 432x288 with 1 Axes>"
      ]
     },
     "metadata": {
      "needs_background": "light"
     },
     "output_type": "display_data"
    }
   ],
   "source": [
    "plt.plot(hist_2.history['loss'])\n",
    "plt.plot(hist_2.history['val_loss'])\n",
    "plt.title('Model loss')\n",
    "plt.ylabel('Loss')\n",
    "plt.xlabel('Epoch')\n",
    "plt.legend(['Train', 'Val'], loc='upper right')\n",
    "plt.show()"
   ]
  },
  {
   "cell_type": "markdown",
   "metadata": {
    "id": "GcQ2hHaSn-ur"
   },
   "source": [
    "here we see the loss curves for the model"
   ]
  },
  {
   "cell_type": "code",
   "execution_count": 42,
   "metadata": {
    "colab": {
     "base_uri": "https://localhost:8080/",
     "height": 295
    },
    "id": "gkAthv0gcZ_O",
    "outputId": "e1b3548e-385b-4e3a-9e6e-15af8e3f65a1"
   },
   "outputs": [
    {
     "data": {
      "image/png": "[encoded data removed]",
      "text/plain": [
       "<Figure size 432x288 with 1 Axes>"
      ]
     },
     "metadata": {
      "needs_background": "light"
     },
     "output_type": "display_data"
    }
   ],
   "source": [
    "plt.plot(hist_2.history['accuracy'])\n",
    "plt.plot(hist_2.history['val_accuracy'])\n",
    "plt.title('Model accuracy')\n",
    "plt.ylabel('Accuracy')\n",
    "plt.xlabel('Epoch')\n",
    "plt.legend(['Train', 'Val'], loc='lower right')\n",
    "plt.show()"
   ]
  },
  {
   "cell_type": "markdown",
   "metadata": {
    "id": "QUYK4ZbxodAG"
   },
   "source": [
    "to reduce over-fitting we’ll use L2 regularization and dropout here."
   ]
  },
  {
   "cell_type": "code",
   "execution_count": 44,
   "metadata": {
    "id": "2L13BSfxchq-"
   },
   "outputs": [],
   "source": [
    "#import the code that we need for L2 regularization and dropout:\n",
    "from tensorflow.keras.layers import Dropout\n",
    "from tensorflow.keras import regularizers"
   ]
  },
  {
   "cell_type": "markdown",
   "metadata": {
    "id": "0db-mClUo0DT"
   },
   "source": [
    "specify our third model like this:"
   ]
  },
  {
   "cell_type": "code",
   "execution_count": 45,
   "metadata": {
    "id": "pXr_bOVNcrx3"
   },
   "outputs": [],
   "source": [
    "model_3 = Sequential([\n",
    "    Dense(1000, activation='relu', kernel_regularizer=regularizers.l2(0.01), input_shape=(11,)), Dropout(0.3),\n",
    "    Dense(1000, activation='relu', kernel_regularizer=regularizers.l2(0.01)), Dropout(0.3),\n",
    "    Dense(1000, activation='relu', kernel_regularizer=regularizers.l2(0.01)), Dropout(0.3),\n",
    "    Dense(1000, activation='relu', kernel_regularizer=regularizers.l2(0.01)), Dropout(0.3),\n",
    "    Dense(1, activation='sigmoid', kernel_regularizer=regularizers.l2(0.01)),\n",
    "])"
   ]
  },
  {
   "cell_type": "code",
   "execution_count": 46,
   "metadata": {
    "colab": {
     "base_uri": "https://localhost:8080/"
    },
    "id": "UrzbP0w4cuM-",
    "outputId": "a0535739-c02f-44de-fc97-a1dc3b020661",
    "scrolled": true
   },
   "outputs": [
    {
     "name": "stdout",
     "output_type": "stream",
     "text": [
      "Train on 350 samples, validate on 75 samples\n",
      "Epoch 1/100\n",
      "350/350 [==============================] - 4s 12ms/sample - loss: 23.9478 - accuracy: 0.5229 - val_loss: 16.6351 - val_accuracy: 0.5333\n",
      "Epoch 2/100\n",
      "350/350 [==============================] - 1s 3ms/sample - loss: 12.3734 - accuracy: 0.5400 - val_loss: 8.1323 - val_accuracy: 0.5333\n",
      "Epoch 3/100\n",
      "350/350 [==============================] - 1s 3ms/sample - loss: 5.8932 - accuracy: 0.5400 - val_loss: 3.7634 - val_accuracy: 0.5333\n",
      "Epoch 4/100\n",
      "350/350 [==============================] - 1s 3ms/sample - loss: 2.7383 - accuracy: 0.5400 - val_loss: 1.8072 - val_accuracy: 0.5333\n",
      "Epoch 5/100\n",
      "350/350 [==============================] - 1s 3ms/sample - loss: 1.3995 - accuracy: 0.5400 - val_loss: 1.0469 - val_accuracy: 0.5333\n",
      "Epoch 6/100\n",
      "350/350 [==============================] - 1s 3ms/sample - loss: 0.9075 - accuracy: 0.5400 - val_loss: 0.7933 - val_accuracy: 0.5333\n",
      "Epoch 7/100\n",
      "350/350 [==============================] - 1s 3ms/sample - loss: 0.7527 - accuracy: 0.5400 - val_loss: 0.7213 - val_accuracy: 0.5333\n",
      "Epoch 8/100\n",
      "350/350 [==============================] - 1s 3ms/sample - loss: 0.7105 - accuracy: 0.5400 - val_loss: 0.7028 - val_accuracy: 0.5333\n",
      "Epoch 9/100\n",
      "350/350 [==============================] - 1s 3ms/sample - loss: 0.6992 - accuracy: 0.5400 - val_loss: 0.6975 - val_accuracy: 0.5333\n",
      "Epoch 10/100\n",
      "350/350 [==============================] - 1s 3ms/sample - loss: 0.6958 - accuracy: 0.5400 - val_loss: 0.6951 - val_accuracy: 0.5333\n",
      "Epoch 11/100\n",
      "350/350 [==============================] - 1s 3ms/sample - loss: 0.6935 - accuracy: 0.5400 - val_loss: 0.6937 - val_accuracy: 0.5333\n",
      "Epoch 12/100\n",
      "350/350 [==============================] - 1s 3ms/sample - loss: 0.6928 - accuracy: 0.5400 - val_loss: 0.6929 - val_accuracy: 0.5333\n",
      "Epoch 13/100\n",
      "350/350 [==============================] - 1s 3ms/sample - loss: 0.6922 - accuracy: 0.5400 - val_loss: 0.6925 - val_accuracy: 0.5333\n",
      "Epoch 14/100\n",
      "350/350 [==============================] - 1s 3ms/sample - loss: 0.6919 - accuracy: 0.5400 - val_loss: 0.6922 - val_accuracy: 0.5333\n",
      "Epoch 15/100\n",
      "350/350 [==============================] - 1s 3ms/sample - loss: 0.6913 - accuracy: 0.5400 - val_loss: 0.6920 - val_accuracy: 0.5333\n",
      "Epoch 16/100\n",
      "350/350 [==============================] - 1s 3ms/sample - loss: 0.6916 - accuracy: 0.5400 - val_loss: 0.6919 - val_accuracy: 0.5333\n",
      "Epoch 17/100\n",
      "350/350 [==============================] - 1s 3ms/sample - loss: 0.6912 - accuracy: 0.5400 - val_loss: 0.6918 - val_accuracy: 0.5333\n",
      "Epoch 18/100\n",
      "350/350 [==============================] - 1s 3ms/sample - loss: 0.6914 - accuracy: 0.5400 - val_loss: 0.6917 - val_accuracy: 0.5333\n",
      "Epoch 19/100\n",
      "350/350 [==============================] - 1s 3ms/sample - loss: 0.6909 - accuracy: 0.5400 - val_loss: 0.6916 - val_accuracy: 0.5333\n",
      "Epoch 20/100\n",
      "350/350 [==============================] - 1s 3ms/sample - loss: 0.6909 - accuracy: 0.5400 - val_loss: 0.6916 - val_accuracy: 0.5333\n",
      "Epoch 21/100\n",
      "350/350 [==============================] - 1s 3ms/sample - loss: 0.6908 - accuracy: 0.5400 - val_loss: 0.6915 - val_accuracy: 0.5333\n",
      "Epoch 22/100\n",
      "350/350 [==============================] - 1s 3ms/sample - loss: 0.6909 - accuracy: 0.5400 - val_loss: 0.6915 - val_accuracy: 0.5333\n",
      "Epoch 23/100\n",
      "350/350 [==============================] - 1s 3ms/sample - loss: 0.6906 - accuracy: 0.5400 - val_loss: 0.6915 - val_accuracy: 0.5333\n",
      "Epoch 24/100\n",
      "350/350 [==============================] - 1s 3ms/sample - loss: 0.6906 - accuracy: 0.5400 - val_loss: 0.6915 - val_accuracy: 0.5333\n",
      "Epoch 25/100\n",
      "350/350 [==============================] - 1s 3ms/sample - loss: 0.6911 - accuracy: 0.5400 - val_loss: 0.6917 - val_accuracy: 0.5333\n",
      "Epoch 26/100\n",
      "350/350 [==============================] - 1s 3ms/sample - loss: 0.6905 - accuracy: 0.5400 - val_loss: 0.6915 - val_accuracy: 0.5333\n",
      "Epoch 27/100\n",
      "350/350 [==============================] - 1s 3ms/sample - loss: 0.6905 - accuracy: 0.5400 - val_loss: 0.6914 - val_accuracy: 0.5333\n",
      "Epoch 28/100\n",
      "350/350 [==============================] - 1s 3ms/sample - loss: 0.6909 - accuracy: 0.5400 - val_loss: 0.6914 - val_accuracy: 0.5333\n",
      "Epoch 29/100\n",
      "350/350 [==============================] - 1s 3ms/sample - loss: 0.6906 - accuracy: 0.5400 - val_loss: 0.6914 - val_accuracy: 0.5333\n",
      "Epoch 30/100\n",
      "350/350 [==============================] - 1s 3ms/sample - loss: 0.6906 - accuracy: 0.5400 - val_loss: 0.6913 - val_accuracy: 0.5333\n",
      "Epoch 31/100\n",
      "350/350 [==============================] - 1s 3ms/sample - loss: 0.6906 - accuracy: 0.5400 - val_loss: 0.6913 - val_accuracy: 0.5333\n",
      "Epoch 32/100\n",
      "350/350 [==============================] - 1s 3ms/sample - loss: 0.6904 - accuracy: 0.5400 - val_loss: 0.6913 - val_accuracy: 0.5333\n",
      "Epoch 33/100\n",
      "350/350 [==============================] - 1s 3ms/sample - loss: 0.6906 - accuracy: 0.5400 - val_loss: 0.6913 - val_accuracy: 0.5333\n",
      "Epoch 34/100\n",
      "350/350 [==============================] - 1s 3ms/sample - loss: 0.6904 - accuracy: 0.5400 - val_loss: 0.6913 - val_accuracy: 0.5333\n",
      "Epoch 35/100\n",
      "350/350 [==============================] - 1s 3ms/sample - loss: 0.6905 - accuracy: 0.5400 - val_loss: 0.6914 - val_accuracy: 0.5333\n",
      "Epoch 36/100\n",
      "350/350 [==============================] - 1s 3ms/sample - loss: 0.6907 - accuracy: 0.5400 - val_loss: 0.6914 - val_accuracy: 0.5333\n",
      "Epoch 37/100\n",
      "350/350 [==============================] - 1s 3ms/sample - loss: 0.6904 - accuracy: 0.5400 - val_loss: 0.6913 - val_accuracy: 0.5333\n",
      "Epoch 38/100\n",
      "350/350 [==============================] - 1s 3ms/sample - loss: 0.6904 - accuracy: 0.5400 - val_loss: 0.6913 - val_accuracy: 0.5333\n",
      "Epoch 39/100\n",
      "350/350 [==============================] - 1s 3ms/sample - loss: 0.6905 - accuracy: 0.5400 - val_loss: 0.6913 - val_accuracy: 0.5333\n",
      "Epoch 40/100\n",
      "350/350 [==============================] - 1s 3ms/sample - loss: 0.6908 - accuracy: 0.5400 - val_loss: 0.6914 - val_accuracy: 0.5333\n",
      "Epoch 41/100\n",
      "350/350 [==============================] - 1s 3ms/sample - loss: 0.6907 - accuracy: 0.5400 - val_loss: 0.6913 - val_accuracy: 0.5333\n",
      "Epoch 42/100\n",
      "350/350 [==============================] - 1s 3ms/sample - loss: 0.6906 - accuracy: 0.5400 - val_loss: 0.6912 - val_accuracy: 0.5333\n",
      "Epoch 43/100\n",
      "350/350 [==============================] - 1s 3ms/sample - loss: 0.6903 - accuracy: 0.5400 - val_loss: 0.6912 - val_accuracy: 0.5333\n",
      "Epoch 44/100\n",
      "350/350 [==============================] - ETA: 0s - loss: 0.6915 - accuracy: 0.53 - 1s 3ms/sample - loss: 0.6903 - accuracy: 0.5400 - val_loss: 0.6912 - val_accuracy: 0.5333\n",
      "Epoch 45/100\n",
      "350/350 [==============================] - 1s 3ms/sample - loss: 0.6902 - accuracy: 0.5400 - val_loss: 0.6914 - val_accuracy: 0.5333\n",
      "Epoch 46/100\n",
      "350/350 [==============================] - 1s 3ms/sample - loss: 0.6910 - accuracy: 0.5400 - val_loss: 0.6912 - val_accuracy: 0.5333\n",
      "Epoch 47/100\n",
      "350/350 [==============================] - 1s 3ms/sample - loss: 0.6907 - accuracy: 0.5400 - val_loss: 0.6913 - val_accuracy: 0.5333\n",
      "Epoch 48/100\n",
      "350/350 [==============================] - 1s 3ms/sample - loss: 0.6903 - accuracy: 0.5400 - val_loss: 0.6913 - val_accuracy: 0.5333\n",
      "Epoch 49/100\n",
      "350/350 [==============================] - 1s 3ms/sample - loss: 0.6904 - accuracy: 0.5400 - val_loss: 0.6913 - val_accuracy: 0.5333\n",
      "Epoch 50/100\n",
      "350/350 [==============================] - 1s 3ms/sample - loss: 0.6903 - accuracy: 0.5400 - val_loss: 0.6913 - val_accuracy: 0.5333\n",
      "Epoch 51/100\n",
      "350/350 [==============================] - 1s 3ms/sample - loss: 0.6902 - accuracy: 0.5400 - val_loss: 0.6913 - val_accuracy: 0.5333\n",
      "Epoch 52/100\n",
      "350/350 [==============================] - 1s 3ms/sample - loss: 0.6905 - accuracy: 0.5400 - val_loss: 0.6912 - val_accuracy: 0.5333\n",
      "Epoch 53/100\n",
      "350/350 [==============================] - 1s 3ms/sample - loss: 0.6901 - accuracy: 0.5400 - val_loss: 0.6912 - val_accuracy: 0.5333\n",
      "Epoch 54/100\n",
      "350/350 [==============================] - 1s 3ms/sample - loss: 0.6907 - accuracy: 0.5400 - val_loss: 0.6912 - val_accuracy: 0.5333\n",
      "Epoch 55/100\n",
      "350/350 [==============================] - 1s 3ms/sample - loss: 0.6904 - accuracy: 0.5400 - val_loss: 0.6913 - val_accuracy: 0.5333\n",
      "Epoch 56/100\n",
      "350/350 [==============================] - 1s 3ms/sample - loss: 0.6900 - accuracy: 0.5400 - val_loss: 0.6913 - val_accuracy: 0.5333\n",
      "Epoch 57/100\n",
      "350/350 [==============================] - 1s 3ms/sample - loss: 0.6909 - accuracy: 0.5400 - val_loss: 0.6912 - val_accuracy: 0.5333\n",
      "Epoch 58/100\n",
      "350/350 [==============================] - 1s 3ms/sample - loss: 0.6905 - accuracy: 0.5400 - val_loss: 0.6913 - val_accuracy: 0.5333\n",
      "Epoch 59/100\n",
      "350/350 [==============================] - 1s 3ms/sample - loss: 0.6904 - accuracy: 0.5400 - val_loss: 0.6912 - val_accuracy: 0.5333\n",
      "Epoch 60/100\n",
      "350/350 [==============================] - 1s 3ms/sample - loss: 0.6901 - accuracy: 0.5400 - val_loss: 0.6913 - val_accuracy: 0.5333\n",
      "Epoch 61/100\n",
      "350/350 [==============================] - 1s 3ms/sample - loss: 0.6903 - accuracy: 0.5400 - val_loss: 0.6912 - val_accuracy: 0.5333\n",
      "Epoch 62/100\n",
      "350/350 [==============================] - 1s 3ms/sample - loss: 0.6903 - accuracy: 0.5400 - val_loss: 0.6913 - val_accuracy: 0.5333\n",
      "Epoch 63/100\n",
      "350/350 [==============================] - 1s 3ms/sample - loss: 0.6903 - accuracy: 0.5400 - val_loss: 0.6913 - val_accuracy: 0.5333\n",
      "Epoch 64/100\n",
      "350/350 [==============================] - 1s 3ms/sample - loss: 0.6903 - accuracy: 0.5400 - val_loss: 0.6912 - val_accuracy: 0.5333\n",
      "Epoch 65/100\n",
      "350/350 [==============================] - 1s 3ms/sample - loss: 0.6901 - accuracy: 0.5400 - val_loss: 0.6912 - val_accuracy: 0.5333\n",
      "Epoch 66/100\n",
      "350/350 [==============================] - 1s 3ms/sample - loss: 0.6908 - accuracy: 0.5400 - val_loss: 0.6913 - val_accuracy: 0.5333\n",
      "Epoch 67/100\n",
      "350/350 [==============================] - ETA: 0s - loss: 0.6899 - accuracy: 0.54 - 1s 3ms/sample - loss: 0.6900 - accuracy: 0.5400 - val_loss: 0.6913 - val_accuracy: 0.5333\n",
      "Epoch 68/100\n",
      "350/350 [==============================] - 1s 3ms/sample - loss: 0.6901 - accuracy: 0.5400 - val_loss: 0.6912 - val_accuracy: 0.5333\n",
      "Epoch 69/100\n",
      "350/350 [==============================] - 1s 3ms/sample - loss: 0.6903 - accuracy: 0.5400 - val_loss: 0.6912 - val_accuracy: 0.5333\n",
      "Epoch 70/100\n",
      "350/350 [==============================] - 1s 3ms/sample - loss: 0.6905 - accuracy: 0.5400 - val_loss: 0.6912 - val_accuracy: 0.5333\n",
      "Epoch 71/100\n",
      "350/350 [==============================] - 1s 3ms/sample - loss: 0.6904 - accuracy: 0.5400 - val_loss: 0.6912 - val_accuracy: 0.5333\n",
      "Epoch 72/100\n",
      "350/350 [==============================] - 1s 3ms/sample - loss: 0.6903 - accuracy: 0.5400 - val_loss: 0.6911 - val_accuracy: 0.5333\n",
      "Epoch 73/100\n",
      "350/350 [==============================] - 1s 3ms/sample - loss: 0.6904 - accuracy: 0.5400 - val_loss: 0.6912 - val_accuracy: 0.5333\n",
      "Epoch 74/100\n",
      "350/350 [==============================] - 1s 3ms/sample - loss: 0.6906 - accuracy: 0.5400 - val_loss: 0.6913 - val_accuracy: 0.5333\n",
      "Epoch 75/100\n",
      "350/350 [==============================] - 1s 3ms/sample - loss: 0.6904 - accuracy: 0.5400 - val_loss: 0.6912 - val_accuracy: 0.5333\n",
      "Epoch 76/100\n",
      "350/350 [==============================] - 1s 3ms/sample - loss: 0.6904 - accuracy: 0.5400 - val_loss: 0.6912 - val_accuracy: 0.5333\n",
      "Epoch 77/100\n",
      "350/350 [==============================] - 1s 3ms/sample - loss: 0.6902 - accuracy: 0.5400 - val_loss: 0.6912 - val_accuracy: 0.5333\n",
      "Epoch 78/100\n",
      "350/350 [==============================] - 1s 3ms/sample - loss: 0.6902 - accuracy: 0.5400 - val_loss: 0.6911 - val_accuracy: 0.5333\n",
      "Epoch 79/100\n",
      "350/350 [==============================] - 1s 3ms/sample - loss: 0.6909 - accuracy: 0.5400 - val_loss: 0.6911 - val_accuracy: 0.5333\n",
      "Epoch 80/100\n",
      "350/350 [==============================] - 1s 3ms/sample - loss: 0.6904 - accuracy: 0.5400 - val_loss: 0.6911 - val_accuracy: 0.5333\n",
      "Epoch 81/100\n",
      "350/350 [==============================] - 1s 3ms/sample - loss: 0.6903 - accuracy: 0.5400 - val_loss: 0.6912 - val_accuracy: 0.5333\n",
      "Epoch 82/100\n",
      "350/350 [==============================] - 1s 3ms/sample - loss: 0.6905 - accuracy: 0.5400 - val_loss: 0.6911 - val_accuracy: 0.5333\n",
      "Epoch 83/100\n",
      "350/350 [==============================] - 1s 3ms/sample - loss: 0.6901 - accuracy: 0.5400 - val_loss: 0.6911 - val_accuracy: 0.5333\n",
      "Epoch 84/100\n",
      "350/350 [==============================] - 1s 3ms/sample - loss: 0.6900 - accuracy: 0.5400 - val_loss: 0.6911 - val_accuracy: 0.5333\n",
      "Epoch 85/100\n",
      "350/350 [==============================] - 1s 3ms/sample - loss: 0.6902 - accuracy: 0.5400 - val_loss: 0.6912 - val_accuracy: 0.5333\n",
      "Epoch 86/100\n",
      "350/350 [==============================] - 1s 3ms/sample - loss: 0.6907 - accuracy: 0.5400 - val_loss: 0.6914 - val_accuracy: 0.5333\n",
      "Epoch 87/100\n",
      "350/350 [==============================] - 1s 3ms/sample - loss: 0.6904 - accuracy: 0.5400 - val_loss: 0.6912 - val_accuracy: 0.5333\n",
      "Epoch 88/100\n",
      "350/350 [==============================] - 1s 3ms/sample - loss: 0.6902 - accuracy: 0.5400 - val_loss: 0.6911 - val_accuracy: 0.5333\n",
      "Epoch 89/100\n",
      "350/350 [==============================] - 1s 3ms/sample - loss: 0.6903 - accuracy: 0.5400 - val_loss: 0.6912 - val_accuracy: 0.5333\n",
      "Epoch 90/100\n",
      "350/350 [==============================] - 1s 3ms/sample - loss: 0.6905 - accuracy: 0.5400 - val_loss: 0.6912 - val_accuracy: 0.5333\n",
      "Epoch 91/100\n",
      "350/350 [==============================] - 1s 3ms/sample - loss: 0.6901 - accuracy: 0.5400 - val_loss: 0.6912 - val_accuracy: 0.5333\n",
      "Epoch 92/100\n",
      "350/350 [==============================] - 1s 3ms/sample - loss: 0.6900 - accuracy: 0.5400 - val_loss: 0.6912 - val_accuracy: 0.5333\n",
      "Epoch 93/100\n",
      "350/350 [==============================] - 1s 3ms/sample - loss: 0.6902 - accuracy: 0.5400 - val_loss: 0.6912 - val_accuracy: 0.5333\n",
      "Epoch 94/100\n",
      "350/350 [==============================] - 1s 3ms/sample - loss: 0.6906 - accuracy: 0.5400 - val_loss: 0.6911 - val_accuracy: 0.5333\n",
      "Epoch 95/100\n",
      "350/350 [==============================] - 1s 3ms/sample - loss: 0.6904 - accuracy: 0.5400 - val_loss: 0.6911 - val_accuracy: 0.5333\n",
      "Epoch 96/100\n",
      "350/350 [==============================] - 1s 3ms/sample - loss: 0.6904 - accuracy: 0.5400 - val_loss: 0.6911 - val_accuracy: 0.5333\n",
      "Epoch 97/100\n",
      "350/350 [==============================] - 1s 3ms/sample - loss: 0.6904 - accuracy: 0.5400 - val_loss: 0.6911 - val_accuracy: 0.5333\n",
      "Epoch 98/100\n",
      "350/350 [==============================] - 1s 3ms/sample - loss: 0.6902 - accuracy: 0.5400 - val_loss: 0.6911 - val_accuracy: 0.5333\n",
      "Epoch 99/100\n",
      "350/350 [==============================] - 1s 3ms/sample - loss: 0.6903 - accuracy: 0.5400 - val_loss: 0.6911 - val_accuracy: 0.5333\n",
      "Epoch 100/100\n",
      "350/350 [==============================] - 1s 3ms/sample - loss: 0.6903 - accuracy: 0.5400 - val_loss: 0.6911 - val_accuracy: 0.5333\n"
     ]
    }
   ],
   "source": [
    "model_3.compile(optimizer='adam',\n",
    "              loss='binary_crossentropy',\n",
    "              metrics=['accuracy'])\n",
    "              \n",
    "hist_3 = model_3.fit(X_train, Y_train,\n",
    "          batch_size=32, epochs=100,\n",
    "          validation_data=(X_val, Y_val))"
   ]
  },
  {
   "cell_type": "markdown",
   "metadata": {
    "id": "UuTpauHSpcaG"
   },
   "source": [
    "the loss is a lot higher at the start and that’s because we’ve changed our loss function."
   ]
  },
  {
   "cell_type": "code",
   "execution_count": 48,
   "metadata": {
    "colab": {
     "base_uri": "https://localhost:8080/",
     "height": 295
    },
    "id": "d5p1X9Jlc6a-",
    "outputId": "056c8195-bb66-4613-d67e-36335bdcd8ae"
   },
   "outputs": [
    {
     "data": {
      "image/png": "[encoded data removed]",
      "text/plain": [
       "<Figure size 432x288 with 1 Axes>"
      ]
     },
     "metadata": {
      "needs_background": "light"
     },
     "output_type": "display_data"
    }
   ],
   "source": [
    "plt.plot(hist_3.history['loss'])\n",
    "plt.plot(hist_3.history['val_loss'])\n",
    "plt.title('Model loss')\n",
    "plt.ylabel('Loss')\n",
    "plt.xlabel('Epoch')\n",
    "plt.legend(['Train', 'Val'], loc='upper right')\n",
    "plt.ylim(top=1.2, bottom=0)\n",
    "plt.show()"
   ]
  },
  {
   "cell_type": "markdown",
   "metadata": {
    "id": "WaKfrR1yprU5"
   },
   "source": [
    "we can see that the validation loss much more closely matches our training loss. "
   ]
  },
  {
   "cell_type": "code",
   "execution_count": 49,
   "metadata": {
    "colab": {
     "base_uri": "https://localhost:8080/",
     "height": 295
    },
    "id": "YP41TT55dJpX",
    "outputId": "9a065acc-e597-44b8-fe3f-39f519fc4213"
   },
   "outputs": [
    {
     "data": {
      "image/png": "[encoded data removed]",
      "text/plain": [
       "<Figure size 432x288 with 1 Axes>"
      ]
     },
     "metadata": {
      "needs_background": "light"
     },
     "output_type": "display_data"
    }
   ],
   "source": [
    "plt.plot(hist_3.history['accuracy'])\n",
    "plt.plot(hist_3.history['val_accuracy'])\n",
    "plt.title('Model accuracy')\n",
    "plt.ylabel('Accuracy')\n",
    "plt.xlabel('Epoch')\n",
    "plt.legend(['Train', 'Val'], loc='lower right')\n",
    "plt.show()"
   ]
  },
  {
   "cell_type": "markdown",
   "metadata": {
    "id": "f3eqTVvyp1Pa"
   },
   "source": [
    "Compared to our model in Model 2, we’ve reduced overfitting."
   ]
  },
  {
   "cell_type": "markdown",
   "metadata": {
    "id": "xQ3wnB1LdPVJ"
   },
   "source": [
    "***"
   ]
  },
  {
   "cell_type": "code",
   "execution_count": null,
   "metadata": {},
   "outputs": [],
   "source": []
  }
 ],
 "metadata": {
  "colab": {
   "collapsed_sections": [],
   "name": "test 02.ipynb",
   "provenance": []
  },
  "kernelspec": {
   "display_name": "Python 3",
   "language": "python",
   "name": "python3"
  },
  "language_info": {
   "codemirror_mode": {
    "name": "ipython",
    "version": 3
   },
   "file_extension": ".py",
   "mimetype": "text/x-python",
   "name": "python",
   "nbconvert_exporter": "python",
   "pygments_lexer": "ipython3",
   "version": "3.7.4"
  }
 },
 "nbformat": 4,
 "nbformat_minor": 4
}
